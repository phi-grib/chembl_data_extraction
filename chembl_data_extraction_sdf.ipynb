{
 "cells": [
  {
   "cell_type": "markdown",
   "metadata": {},
   "source": [
    "<b>[Author]</b> Nicolas Bosc\n",
    "<br><b>[Year]</b> 2020"
   ]
  },
  {
   "cell_type": "markdown",
   "metadata": {},
   "source": [
    "# Data extraction from ChEMBL\n",
    "This notebook shows how to extract bioactivity data from the ChEMBL database to get them in a model training-friendly format. <br>\n",
    "It makes use of the Python client library. <u>Therefore, it does not require a local installation of ChEMBL to run.</u>\n",
    "\n",
    "To work, it only needs a protein name (by default COX-2) or alternatively its ChEMBL identifier. If data are found it writes a csv file with the relevant data\n",
    "\n",
    "<b>Note</b>: there are several ways to achieve the same result and this notebook only show one possibility. Further documentation and examples are available [here](https://chembl.gitbook.io/chembl-interface-documentation/web-services/chembl-data-web-services). For remarks and comments please contact Nicolas Bosc <nbosc@ebi.ac.uk>"
   ]
  },
  {
   "cell_type": "code",
   "execution_count": 1,
   "metadata": {},
   "outputs": [],
   "source": [
    "# Tested with Python 3.7\n",
    "# You can install the required packages if they are not already installed. Just uncomment the next three lines.\n",
    "# import sys\n",
    "# !conda install --yes --prefix {sys.prefix} pandas ipywidgets\n",
    "# !{sys.executable} -m pip install chembl-webresource-client"
   ]
  },
  {
   "cell_type": "code",
   "execution_count": 2,
   "metadata": {},
   "outputs": [],
   "source": [
    "import pandas as pd\r\n",
    "from chembl_webresource_client.new_client import new_client\r\n",
    "from ipywidgets import interactive\r\n",
    "from rdkit import Chem\r\n",
    "from rdkit.Chem import PandasTools"
   ]
  },
  {
   "cell_type": "markdown",
   "metadata": {},
   "source": [
    "##  Download activities for a given protein target"
   ]
  },
  {
   "cell_type": "markdown",
   "metadata": {},
   "source": [
    "#### Step 1"
   ]
  },
  {
   "cell_type": "markdown",
   "metadata": {},
   "source": [
    "#### You are looking for a target but you do not have its ChEMBL id (if you know the ChEMBL id, go to [step 2](#Step-2))"
   ]
  },
  {
   "cell_type": "code",
   "execution_count": 3,
   "metadata": {},
   "outputs": [
    {
     "data": {
      "application/vnd.jupyter.widget-view+json": {
       "model_id": "9824965d3a214ab89aae2240a11f0ac2",
       "version_major": 2,
       "version_minor": 0
      },
      "text/plain": "interactive(children=(Text(value='cox2', description='protein'), Output()), _dom_classes=('widget-interact',))"
     },
     "metadata": {},
     "output_type": "display_data"
    }
   ],
   "source": [
    "def f(protein):\n",
    "    return protein\n",
    "userArguments = interactive(f, protein='cox2')\n",
    "userArguments"
   ]
  },
  {
   "cell_type": "code",
   "execution_count": 4,
   "metadata": {},
   "outputs": [
    {
     "data": {
      "text/html": "<div>\n<style scoped>\n    .dataframe tbody tr th:only-of-type {\n        vertical-align: middle;\n    }\n\n    .dataframe tbody tr th {\n        vertical-align: top;\n    }\n\n    .dataframe thead th {\n        text-align: right;\n    }\n</style>\n<table border=\"1\" class=\"dataframe\">\n  <thead>\n    <tr style=\"text-align: right;\">\n      <th></th>\n      <th>cross_references</th>\n      <th>organism</th>\n      <th>pref_name</th>\n      <th>species_group_flag</th>\n      <th>target_chembl_id</th>\n      <th>target_components</th>\n      <th>target_type</th>\n      <th>tax_id</th>\n    </tr>\n  </thead>\n  <tbody>\n    <tr>\n      <th>0</th>\n      <td>[{'xref_id': 'P35354', 'xref_name': None, 'xre...</td>\n      <td>Homo sapiens</td>\n      <td>Cyclooxygenase-2</td>\n      <td>False</td>\n      <td>CHEMBL230</td>\n      <td>[{'accession': 'P35354', 'component_descriptio...</td>\n      <td>SINGLE PROTEIN</td>\n      <td>9606</td>\n    </tr>\n    <tr>\n      <th>1</th>\n      <td>[{'xref_id': 'P00403', 'xref_name': None, 'xre...</td>\n      <td>Homo sapiens</td>\n      <td>Cytochrome c oxidase subunit 2</td>\n      <td>False</td>\n      <td>CHEMBL6174</td>\n      <td>[{'accession': 'P00403', 'component_descriptio...</td>\n      <td>SINGLE PROTEIN</td>\n      <td>9606</td>\n    </tr>\n  </tbody>\n</table>\n</div>",
      "text/plain": "                                    cross_references      organism  \\\n0  [{'xref_id': 'P35354', 'xref_name': None, 'xre...  Homo sapiens   \n1  [{'xref_id': 'P00403', 'xref_name': None, 'xre...  Homo sapiens   \n\n                        pref_name  species_group_flag target_chembl_id  \\\n0                Cyclooxygenase-2               False        CHEMBL230   \n1  Cytochrome c oxidase subunit 2               False       CHEMBL6174   \n\n                                   target_components     target_type  tax_id  \n0  [{'accession': 'P35354', 'component_descriptio...  SINGLE PROTEIN    9606  \n1  [{'accession': 'P00403', 'component_descriptio...  SINGLE PROTEIN    9606  "
     },
     "execution_count": 4,
     "metadata": {},
     "output_type": "execute_result"
    }
   ],
   "source": [
    "# create a target query\n",
    "target = new_client.target\n",
    "protein_name = userArguments.kwargs['protein']\n",
    "# in this example we assume this is a 'single protein' present in the human species\n",
    "response = target.filter(target_synonym__icontains=protein_name, organism='Homo sapiens', target_type='SINGLE PROTEIN')\n",
    "\n",
    "pd.DataFrame(response)"
   ]
  },
  {
   "cell_type": "markdown",
   "metadata": {},
   "source": [
    "From these results, it is obvious that we are interested by the first protein (Cyclooxygenase-2) whose ChEMBL id is <b>CHEMBL230</b>"
   ]
  },
  {
   "cell_type": "markdown",
   "metadata": {},
   "source": [
    "#### Step 2"
   ]
  },
  {
   "cell_type": "markdown",
   "metadata": {},
   "source": [
    "#### You are looking for a target and you have its ChEMBL id "
   ]
  },
  {
   "cell_type": "code",
   "execution_count": 5,
   "metadata": {},
   "outputs": [
    {
     "data": {
      "application/vnd.jupyter.widget-view+json": {
       "model_id": "465c28bd11e347aa9f9523fe664f09be",
       "version_major": 2,
       "version_minor": 0
      },
      "text/plain": "interactive(children=(Text(value='CHEMBL230', description='chembl_id'), Output()), _dom_classes=('widget-inter…"
     },
     "metadata": {},
     "output_type": "display_data"
    }
   ],
   "source": [
    "def f(chembl_id):\n",
    "    return chembl_id\n",
    "userArguments2 = interactive(f, chembl_id='CHEMBL230')\n",
    "userArguments2"
   ]
  },
  {
   "cell_type": "code",
   "execution_count": 6,
   "metadata": {},
   "outputs": [],
   "source": [
    "# Create an activity query\r\n",
    "activities = new_client.activity\r\n",
    "chembl_id = userArguments2.kwargs['chembl_id']\r\n",
    "# Select only activities with a pchembl_value (-log(IC50, Ki, Kd, EC50...).\r\n",
    "# We also use the chembl flags to remove the duplicates and the records where there is a validity comment\r\n",
    "response = activities.filter(target_chembl_id=chembl_id, pchembl_value__isnull=False,\\\r\n",
    "                             potential_duplicate=False, data_validity_comment__isnull=True )\r\n",
    "\r\n",
    "# create a dataframe with the activity data\r\n",
    "df_activities = pd.DataFrame(response)\r\n",
    "assays = new_client.assay\r\n",
    "\r\n",
    "# select assays.\r\n",
    "response = assays.filter(assay_chembl_id__in=list(df_activities.assay_chembl_id.unique()))\r\n",
    "\r\n",
    "# create a dataframe with the assay data\r\n",
    "df_assays = pd.DataFrame(response)\r\n",
    "\r\n",
    "# keep only the assays where the link between the protein target and the assay is direct\r\n",
    "df_assays = df_assays[df_assays.confidence_score==9]\r\n",
    "\r\n",
    "df_activities = df_activities[df_activities.assay_chembl_id.isin(df_assays.assay_chembl_id)]\r\n",
    "\r\n",
    "# print (df_activities)\r\n",
    "\r\n",
    "# keep only the columns you need\r\n",
    "df_res = df_activities[['assay_description','molecule_chembl_id','molecule_pref_name', 'canonical_smiles','pchembl_value',\\\r\n",
    "               'standard_type','standard_relation','standard_value','standard_units','target_pref_name',\r\n",
    "               'target_organism']]\r\n",
    "\r\n",
    "# export the resulting data\r\n",
    "# df_res.to_csv(f\"{userArguments.kwargs['protein']}_chembl_data.csv\", index=False)"
   ]
  },
  {
   "cell_type": "markdown",
   "metadata": {},
   "source": [
    "#### Before using this dataset for training your model, you should check for any duplicate activities and decide what to do with them. Finally, you will have to describe the compounds using the features of your choice."
   ]
  },
  {
   "cell_type": "code",
   "execution_count": 7,
   "metadata": {},
   "outputs": [
    {
     "data": {
      "text/html": "<div>\n<style scoped>\n    .dataframe tbody tr th:only-of-type {\n        vertical-align: middle;\n    }\n\n    .dataframe tbody tr th {\n        vertical-align: top;\n    }\n\n    .dataframe thead th {\n        text-align: right;\n    }\n</style>\n<table border=\"1\" class=\"dataframe\">\n  <thead>\n    <tr style=\"text-align: right;\">\n      <th></th>\n      <th>assay_description</th>\n      <th>molecule_chembl_id</th>\n      <th>molecule_pref_name</th>\n      <th>canonical_smiles</th>\n      <th>pchembl_value</th>\n      <th>standard_type</th>\n      <th>standard_relation</th>\n      <th>standard_value</th>\n      <th>standard_units</th>\n      <th>target_pref_name</th>\n      <th>target_organism</th>\n    </tr>\n  </thead>\n  <tbody>\n    <tr>\n      <th>11</th>\n      <td>Inhibition of PGE-2 production by arachidonic ...</td>\n      <td>CHEMBL91832</td>\n      <td>None</td>\n      <td>CC1(C)C(=O)C(c2ccc(F)cc2)=C1c1ccc(S(C)(=O)=O)cc1</td>\n      <td>8.30</td>\n      <td>IC50</td>\n      <td>=</td>\n      <td>5.0</td>\n      <td>nM</td>\n      <td>Cyclooxygenase-2</td>\n      <td>Homo sapiens</td>\n    </tr>\n    <tr>\n      <th>12</th>\n      <td>Inhibition of PGE-2 production by arachidonic ...</td>\n      <td>CHEMBL91118</td>\n      <td>None</td>\n      <td>C=C1CC(c2ccc(S(C)(=O)=O)cc2)=C1c1ccccc1</td>\n      <td>8.92</td>\n      <td>IC50</td>\n      <td>=</td>\n      <td>1.2</td>\n      <td>nM</td>\n      <td>Cyclooxygenase-2</td>\n      <td>Homo sapiens</td>\n    </tr>\n    <tr>\n      <th>13</th>\n      <td>Inhibition of PGE-2 production by arachidonic ...</td>\n      <td>CHEMBL92443</td>\n      <td>None</td>\n      <td>C=C1C(c2ccccc2)=C(c2ccc(S(C)(=O)=O)cc2)C1(C)C</td>\n      <td>8.66</td>\n      <td>IC50</td>\n      <td>=</td>\n      <td>2.2</td>\n      <td>nM</td>\n      <td>Cyclooxygenase-2</td>\n      <td>Homo sapiens</td>\n    </tr>\n    <tr>\n      <th>20</th>\n      <td>Inhibition of PGE-2 production by arachidonic ...</td>\n      <td>CHEMBL328003</td>\n      <td>None</td>\n      <td>CS(=O)(=O)c1ccc(C2=C(c3ccccc3)C(=O)C2)cc1</td>\n      <td>6.96</td>\n      <td>IC50</td>\n      <td>=</td>\n      <td>110.0</td>\n      <td>nM</td>\n      <td>Cyclooxygenase-2</td>\n      <td>Homo sapiens</td>\n    </tr>\n    <tr>\n      <th>23</th>\n      <td>Inhibition of PGE-2 production by arachidonic ...</td>\n      <td>CHEMBL330516</td>\n      <td>None</td>\n      <td>CC1(C)C(c2ccc(S(C)(=O)=O)cc2)=C(c2ccccc2)/C1=N/O</td>\n      <td>7.21</td>\n      <td>IC50</td>\n      <td>=</td>\n      <td>61.0</td>\n      <td>nM</td>\n      <td>Cyclooxygenase-2</td>\n      <td>Homo sapiens</td>\n    </tr>\n  </tbody>\n</table>\n</div>",
      "text/plain": "                                    assay_description molecule_chembl_id  \\\n11  Inhibition of PGE-2 production by arachidonic ...        CHEMBL91832   \n12  Inhibition of PGE-2 production by arachidonic ...        CHEMBL91118   \n13  Inhibition of PGE-2 production by arachidonic ...        CHEMBL92443   \n20  Inhibition of PGE-2 production by arachidonic ...       CHEMBL328003   \n23  Inhibition of PGE-2 production by arachidonic ...       CHEMBL330516   \n\n   molecule_pref_name                                  canonical_smiles  \\\n11               None  CC1(C)C(=O)C(c2ccc(F)cc2)=C1c1ccc(S(C)(=O)=O)cc1   \n12               None           C=C1CC(c2ccc(S(C)(=O)=O)cc2)=C1c1ccccc1   \n13               None     C=C1C(c2ccccc2)=C(c2ccc(S(C)(=O)=O)cc2)C1(C)C   \n20               None         CS(=O)(=O)c1ccc(C2=C(c3ccccc3)C(=O)C2)cc1   \n23               None  CC1(C)C(c2ccc(S(C)(=O)=O)cc2)=C(c2ccccc2)/C1=N/O   \n\n   pchembl_value standard_type standard_relation standard_value  \\\n11          8.30          IC50                 =            5.0   \n12          8.92          IC50                 =            1.2   \n13          8.66          IC50                 =            2.2   \n20          6.96          IC50                 =          110.0   \n23          7.21          IC50                 =           61.0   \n\n   standard_units  target_pref_name target_organism  \n11             nM  Cyclooxygenase-2    Homo sapiens  \n12             nM  Cyclooxygenase-2    Homo sapiens  \n13             nM  Cyclooxygenase-2    Homo sapiens  \n20             nM  Cyclooxygenase-2    Homo sapiens  \n23             nM  Cyclooxygenase-2    Homo sapiens  "
     },
     "execution_count": 7,
     "metadata": {},
     "output_type": "execute_result"
    }
   ],
   "source": [
    "df_res.head()"
   ]
  },
  {
   "cell_type": "markdown",
   "metadata": {},
   "source": [
    "#### The function 'write_sdf' is in charge of dumping the result of our search into an annotated SDFile"
   ]
  },
  {
   "cell_type": "code",
   "execution_count": 10,
   "metadata": {},
   "outputs": [],
   "source": [
    "def write_sdf(data, smiles_column, id_column, output_name):\r\n",
    "    PandasTools.AddMoleculeColumnToFrame(data, smiles_column)\r\n",
    "\r\n",
    "    # Uncomment the two lines below if a NoneType error appears when executing WriteSDF\r\n",
    "    #     no_mol = data[data['ROMol'].isna()]\r\n",
    "    #     data.drop(no_mol.index, axis=0, inplace=True)\r\n",
    "\r\n",
    "    # add H\r\n",
    "    # data.loc[:,'ROMol'] = [Chem.AddHs(x) for x in data.loc[:,'ROMol'].values.tolist()]\r\n",
    "\r\n",
    "    PandasTools.WriteSDF(data, output_name, molColName='ROMol', properties=list(data.columns), idName=id_column)"
   ]
  },
  {
   "cell_type": "markdown",
   "metadata": {},
   "source": [
    "## Write the SDFile\r\n",
    "\r\n",
    "Adapted by Eric Marc and Manuel Pastor (UPF), 2021"
   ]
  },
  {
   "cell_type": "markdown",
   "metadata": {},
   "source": [
    "#### Remove all the lines of this tables containing compounds without structure (the \"canonical_smiles\" is a na) and Write the SDFile"
   ]
  },
  {
   "cell_type": "code",
   "execution_count": 11,
   "metadata": {},
   "outputs": [],
   "source": [
    "df_res.drop(df_res[df_res['canonical_smiles'].isna()].index, axis=0, inplace=True)\r\n",
    "write_sdf(df_res, 'canonical_smiles', 'molecule_chembl_id', 'chembl_data.sdf')"
   ]
  }
 ],
 "metadata": {
  "kernelspec": {
   "display_name": "Python 3.6.13 64-bit ('flame': conda)",
   "name": "python3613jvsc74a57bd03dbfdf87f3038472512d4bc1839089b265481acbac87be1a73bd7e949411d3e6"
  },
  "language_info": {
   "codemirror_mode": {
    "name": "ipython",
    "version": 3
   },
   "file_extension": ".py",
   "mimetype": "text/x-python",
   "name": "python",
   "nbconvert_exporter": "python",
   "pygments_lexer": "ipython3",
   "version": "3.6.13"
  }
 },
 "nbformat": 4,
 "nbformat_minor": 4
}